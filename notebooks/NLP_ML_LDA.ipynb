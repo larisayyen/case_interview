{
 "cells": [
  {
   "cell_type": "code",
   "execution_count": 3,
   "id": "1c126e5c",
   "metadata": {},
   "outputs": [],
   "source": [
    "import nltk\n",
    "from nltk.corpus import stopwords \n",
    "from nltk.tokenize import word_tokenize\n",
    "from nltk.stem import WordNetLemmatizer\n",
    "\n",
    "from sklearn.pipeline import Pipeline\n",
    "from sklearn.naive_bayes import MultinomialNB\n",
    "from sklearn.model_selection import GridSearchCV\n",
    "from sklearn.decomposition import LatentDirichletAllocation\n",
    "from sklearn.feature_extraction.text import CountVectorizer,TfidfVectorizer\n",
    "\n",
    "import string\n",
    "import numpy as np\n",
    "import pandas as pd\n",
    "import matplotlib.pyplot as plt"
   ]
  },
  {
   "cell_type": "markdown",
   "id": "2ba853ae",
   "metadata": {},
   "source": [
    "# import data"
   ]
  },
  {
   "cell_type": "code",
   "execution_count": 4,
   "id": "a6e5f708",
   "metadata": {},
   "outputs": [
    {
     "data": {
      "text/html": [
       "<div>\n",
       "<style scoped>\n",
       "    .dataframe tbody tr th:only-of-type {\n",
       "        vertical-align: middle;\n",
       "    }\n",
       "\n",
       "    .dataframe tbody tr th {\n",
       "        vertical-align: top;\n",
       "    }\n",
       "\n",
       "    .dataframe thead th {\n",
       "        text-align: right;\n",
       "    }\n",
       "</style>\n",
       "<table border=\"1\" class=\"dataframe\">\n",
       "  <thead>\n",
       "    <tr style=\"text-align: right;\">\n",
       "      <th></th>\n",
       "      <th>text</th>\n",
       "    </tr>\n",
       "  </thead>\n",
       "  <tbody>\n",
       "    <tr>\n",
       "      <th>0</th>\n",
       "      <td>From: gld@cunixb.cc.columbia.edu (Gary L Dare)...</td>\n",
       "    </tr>\n",
       "    <tr>\n",
       "      <th>1</th>\n",
       "      <td>From: atterlep@vela.acs.oakland.edu (Cardinal ...</td>\n",
       "    </tr>\n",
       "    <tr>\n",
       "      <th>2</th>\n",
       "      <td>From: miner@kuhub.cc.ukans.edu\\nSubject: Re: A...</td>\n",
       "    </tr>\n",
       "    <tr>\n",
       "      <th>3</th>\n",
       "      <td>From: atterlep@vela.acs.oakland.edu (Cardinal ...</td>\n",
       "    </tr>\n",
       "    <tr>\n",
       "      <th>4</th>\n",
       "      <td>From: vzhivov@superior.carleton.ca (Vladimir Z...</td>\n",
       "    </tr>\n",
       "  </tbody>\n",
       "</table>\n",
       "</div>"
      ],
      "text/plain": [
       "                                                text\n",
       "0  From: gld@cunixb.cc.columbia.edu (Gary L Dare)...\n",
       "1  From: atterlep@vela.acs.oakland.edu (Cardinal ...\n",
       "2  From: miner@kuhub.cc.ukans.edu\\nSubject: Re: A...\n",
       "3  From: atterlep@vela.acs.oakland.edu (Cardinal ...\n",
       "4  From: vzhivov@superior.carleton.ca (Vladimir Z..."
      ]
     },
     "execution_count": 4,
     "metadata": {},
     "output_type": "execute_result"
    }
   ],
   "source": [
    "df = pd.read_csv('../raw_data/nlp/data',sep=',',header=None)\n",
    "df.columns = ['text']\n",
    "df.head()"
   ]
  },
  {
   "cell_type": "markdown",
   "id": "3212b225",
   "metadata": {},
   "source": [
    "# text pre-cleaning"
   ]
  },
  {
   "cell_type": "code",
   "execution_count": 5,
   "id": "6686ce85",
   "metadata": {},
   "outputs": [],
   "source": [
    "# basic cleaning\n",
    "\n",
    "def basic_cleaning(sentence):\n",
    "    \n",
    "    # remove punctuation\n",
    "    for punctuation in string.punctuation:\n",
    "        sentence = sentence.replace(punctuation, '')\n",
    "    \n",
    "    # strip sentences\n",
    "    sentence = sentence.strip()\n",
    "    \n",
    "    # lowercase\n",
    "    sentence = sentence.lower()\n",
    "    \n",
    "    # remove digits\n",
    "    sentence = ''.join(char for char in sentence if not char.isdigit())\n",
    "    \n",
    "    # tokenize\n",
    "    sentence = word_tokenize(sentence)\n",
    "    \n",
    "    # remove stopwords\n",
    "    stop_words = set(stopwords.words('english'))\n",
    "    without_stop = [word for word in sentence if not word in stop_words]\n",
    "    \n",
    "    return ' '.join(without_stop)"
   ]
  },
  {
   "cell_type": "code",
   "execution_count": 7,
   "id": "fc59fd67",
   "metadata": {},
   "outputs": [
    {
     "data": {
      "text/html": [
       "<div>\n",
       "<style scoped>\n",
       "    .dataframe tbody tr th:only-of-type {\n",
       "        vertical-align: middle;\n",
       "    }\n",
       "\n",
       "    .dataframe tbody tr th {\n",
       "        vertical-align: top;\n",
       "    }\n",
       "\n",
       "    .dataframe thead th {\n",
       "        text-align: right;\n",
       "    }\n",
       "</style>\n",
       "<table border=\"1\" class=\"dataframe\">\n",
       "  <thead>\n",
       "    <tr style=\"text-align: right;\">\n",
       "      <th></th>\n",
       "      <th>text</th>\n",
       "      <th>clean_text</th>\n",
       "    </tr>\n",
       "  </thead>\n",
       "  <tbody>\n",
       "    <tr>\n",
       "      <th>0</th>\n",
       "      <td>From: gld@cunixb.cc.columbia.edu (Gary L Dare)...</td>\n",
       "      <td>gldcunixbcccolumbiaedu gary l dare subject sta...</td>\n",
       "    </tr>\n",
       "    <tr>\n",
       "      <th>1</th>\n",
       "      <td>From: atterlep@vela.acs.oakland.edu (Cardinal ...</td>\n",
       "      <td>atterlepvelaacsoaklandedu cardinal ximenez sub...</td>\n",
       "    </tr>\n",
       "    <tr>\n",
       "      <th>2</th>\n",
       "      <td>From: miner@kuhub.cc.ukans.edu\\nSubject: Re: A...</td>\n",
       "      <td>minerkuhubccukansedu subject ancient books org...</td>\n",
       "    </tr>\n",
       "    <tr>\n",
       "      <th>3</th>\n",
       "      <td>From: atterlep@vela.acs.oakland.edu (Cardinal ...</td>\n",
       "      <td>atterlepvelaacsoaklandedu cardinal ximenez sub...</td>\n",
       "    </tr>\n",
       "    <tr>\n",
       "      <th>4</th>\n",
       "      <td>From: vzhivov@superior.carleton.ca (Vladimir Z...</td>\n",
       "      <td>vzhivovsuperiorcarletonca vladimir zhivov subj...</td>\n",
       "    </tr>\n",
       "  </tbody>\n",
       "</table>\n",
       "</div>"
      ],
      "text/plain": [
       "                                                text  \\\n",
       "0  From: gld@cunixb.cc.columbia.edu (Gary L Dare)...   \n",
       "1  From: atterlep@vela.acs.oakland.edu (Cardinal ...   \n",
       "2  From: miner@kuhub.cc.ukans.edu\\nSubject: Re: A...   \n",
       "3  From: atterlep@vela.acs.oakland.edu (Cardinal ...   \n",
       "4  From: vzhivov@superior.carleton.ca (Vladimir Z...   \n",
       "\n",
       "                                          clean_text  \n",
       "0  gldcunixbcccolumbiaedu gary l dare subject sta...  \n",
       "1  atterlepvelaacsoaklandedu cardinal ximenez sub...  \n",
       "2  minerkuhubccukansedu subject ancient books org...  \n",
       "3  atterlepvelaacsoaklandedu cardinal ximenez sub...  \n",
       "4  vzhivovsuperiorcarletonca vladimir zhivov subj...  "
      ]
     },
     "execution_count": 7,
     "metadata": {},
     "output_type": "execute_result"
    }
   ],
   "source": [
    "df['clean_text'] = df['text'].apply(basic_cleaning)\n",
    "df.head()"
   ]
  },
  {
   "cell_type": "markdown",
   "id": "232f3dbc",
   "metadata": {},
   "source": [
    "# text preprocessing"
   ]
  },
  {
   "cell_type": "code",
   "execution_count": 8,
   "id": "5c7ffd82",
   "metadata": {},
   "outputs": [],
   "source": [
    "# lemmatize\n",
    "lemmatizer = WordNetLemmatizer()\n",
    "\n",
    "def lemmatizer_text(line):\n",
    "    lemmatize_line = ''.join(lemmatizer.lemmatize(w) for w in line)\n",
    "    return lemmatize_line\n",
    "\n",
    "df['clean_text'] = df['clean_text'].apply(lemmatizer_text)\n"
   ]
  },
  {
   "cell_type": "markdown",
   "id": "ca644870",
   "metadata": {},
   "source": [
    "# Latent Dirichlet Allocation model"
   ]
  },
  {
   "cell_type": "code",
   "execution_count": 24,
   "id": "82bb8805",
   "metadata": {},
   "outputs": [],
   "source": [
    "# vectorize\n",
    "\n",
    "vectorizer = TfidfVectorizer(min_df = 0.1,stop_words={'english'})\n",
    "text_vectorized = vectorizer.fit_transform(df['clean_text'])\n",
    "\n",
    "# LDA model\n",
    "\n",
    "lda = LatentDirichletAllocation(n_components=2).fit(text_vectorized)\n"
   ]
  },
  {
   "cell_type": "code",
   "execution_count": 20,
   "id": "f78c6eee",
   "metadata": {},
   "outputs": [],
   "source": [
    "# potential topics\n",
    "\n",
    "def print_topics(model,vector):\n",
    "    \n",
    "    for index,topic in enumerate(model.components_):\n",
    "        \n",
    "        d = {vector.get_feature_names()[i]:topic[i] for i in topic.argsort()[:-10 - 1:-1]}\n",
    "        \n",
    "        print(d)\n",
    "        \n",
    "        df = pd.DataFrame.from_dict(d,orient='index')\n",
    "        plt.plot(df)\n",
    "        plt.show()\n",
    "    "
   ]
  },
  {
   "cell_type": "code",
   "execution_count": 25,
   "id": "4e5c09dc",
   "metadata": {},
   "outputs": [
    {
     "name": "stdout",
     "output_type": "stream",
     "text": [
      "{'god': 88.38333170781733, 'people': 60.87723772918896, 'would': 58.52301528203296, 'one': 53.53582637242817, 'jesus': 52.02984841146617, 'church': 47.04729346569336, 'christians': 42.709302203225974, 'know': 42.672497637782655, 'us': 42.22123192015579, 'believe': 41.42963084473139}\n"
     ]
    },
    {
     "data": {
      "image/png": "[encoded data removed]",
      "text/plain": [
       "<Figure size 432x288 with 1 Axes>"
      ]
     },
     "metadata": {
      "needs_background": "light"
     },
     "output_type": "display_data"
    },
    {
     "name": "stdout",
     "output_type": "stream",
     "text": [
      "{'team': 68.40206745481653, 'game': 65.49820368585424, 'hockey': 62.24787212147247, 'university': 60.66684991527848, 'organization': 57.76854060660712, 'subject': 56.03801057946776, 'lines': 55.138816985338266, 'go': 54.843906594630994, 'nntppostinghost': 47.1086579362574, 'play': 44.764352879023924}\n"
     ]
    },
    {
     "data": {
      "image/png": "[encoded data removed]",
      "text/plain": [
       "<Figure size 432x288 with 1 Axes>"
      ]
     },
     "metadata": {
      "needs_background": "light"
     },
     "output_type": "display_data"
    }
   ],
   "source": [
    "# visualize topics\n",
    "print_topics(lda,vectorizer)"
   ]
  },
  {
   "cell_type": "markdown",
   "id": "2b438447",
   "metadata": {},
   "source": [
    "# model prediction"
   ]
  },
  {
   "cell_type": "code",
   "execution_count": 26,
   "id": "2e83b4b8",
   "metadata": {},
   "outputs": [
    {
     "data": {
      "text/plain": [
       "array([[0.18330099, 0.81669901]])"
      ]
     },
     "execution_count": 26,
     "metadata": {},
     "output_type": "execute_result"
    }
   ],
   "source": [
    "# give a new test example\n",
    "example = ['time to play hockey in our university at 2 pm what you think']\n",
    "\n",
    "# vectorize\n",
    "ex_v = vectorizer.transform(example)\n",
    "\n",
    "# model transform\n",
    "ex_lda = lda.transform(ex_v)\n",
    "\n",
    "# prediction\n",
    "ex_lda"
   ]
  }
 ],
 "metadata": {
  "kernelspec": {
   "display_name": "Python 3 (ipykernel)",
   "language": "python",
   "name": "python3"
  },
  "language_info": {
   "codemirror_mode": {
    "name": "ipython",
    "version": 3
   },
   "file_extension": ".py",
   "mimetype": "text/x-python",
   "name": "python",
   "nbconvert_exporter": "python",
   "pygments_lexer": "ipython3",
   "version": "3.8.12"
  },
  "toc": {
   "base_numbering": 1,
   "nav_menu": {},
   "number_sections": true,
   "sideBar": true,
   "skip_h1_title": false,
   "title_cell": "Table of Contents",
   "title_sidebar": "Contents",
   "toc_cell": false,
   "toc_position": {},
   "toc_section_display": true,
   "toc_window_display": false
  }
 },
 "nbformat": 4,
 "nbformat_minor": 5
}
