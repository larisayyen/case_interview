{
 "cells": [
  {
   "cell_type": "code",
   "execution_count": 1,
   "id": "069e7299",
   "metadata": {},
   "outputs": [],
   "source": [
    "import numpy as np\n",
    "import pandas as pd\n",
    "import seaborn as sns\n",
    "\n",
    "from sklearn.impute import SimpleImputer\n",
    "from sklearn.preprocessing import StandardScaler\n",
    "from sklearn.linear_model import LogisticRegression\n",
    "from sklearn.model_selection import cross_val_score\n",
    "from sklearn.model_selection import train_test_split\n",
    "from sklearn.inspection import permutation_importance"
   ]
  },
  {
   "cell_type": "code",
   "execution_count": 2,
   "id": "d61a956f",
   "metadata": {},
   "outputs": [],
   "source": [
    "df = pd.read_csv('../raw_data/Klarna_dataset.csv',delimiter=';')"
   ]
  },
  {
   "cell_type": "code",
   "execution_count": 3,
   "id": "9bf89821",
   "metadata": {},
   "outputs": [
    {
     "data": {
      "text/plain": [
       "(99976, 43)"
      ]
     },
     "execution_count": 3,
     "metadata": {},
     "output_type": "execute_result"
    }
   ],
   "source": [
    "df.shape"
   ]
  },
  {
   "cell_type": "code",
   "execution_count": 4,
   "id": "7e0007c0",
   "metadata": {},
   "outputs": [
    {
     "data": {
      "text/plain": [
       "10000"
      ]
     },
     "execution_count": 4,
     "metadata": {},
     "output_type": "execute_result"
    }
   ],
   "source": [
    "df.default.isnull().sum()"
   ]
  },
  {
   "cell_type": "code",
   "execution_count": 5,
   "id": "fb6f401c",
   "metadata": {},
   "outputs": [],
   "source": [
    "# seperate the dataframe useful for model training\n",
    "\n",
    "data = df.head(89976)"
   ]
  },
  {
   "cell_type": "markdown",
   "id": "bbb6eae9",
   "metadata": {},
   "source": [
    "## data preprocessing"
   ]
  },
  {
   "cell_type": "code",
   "execution_count": 6,
   "id": "6b2524ed",
   "metadata": {},
   "outputs": [],
   "source": [
    "data = data.drop_duplicates()"
   ]
  },
  {
   "cell_type": "code",
   "execution_count": 7,
   "id": "b8a21caf",
   "metadata": {},
   "outputs": [],
   "source": [
    "data.drop(columns='uuid',inplace=True)"
   ]
  },
  {
   "cell_type": "code",
   "execution_count": 8,
   "id": "75683886",
   "metadata": {},
   "outputs": [],
   "source": [
    "corr_df = data.corr()\n",
    "corr_df = corr_df.unstack().reset_index()\n",
    "corr_df.rename(columns = {'level_0':'feature_1','level_1':'feature_2',0:'correlation'},inplace=True)\n",
    "corr_df.sort_values(by='correlation',ascending=False,inplace=True)"
   ]
  },
  {
   "cell_type": "code",
   "execution_count": 9,
   "id": "ad9b413a",
   "metadata": {},
   "outputs": [
    {
     "name": "stdout",
     "output_type": "stream",
     "text": [
      "<class 'pandas.core.frame.DataFrame'>\n",
      "Int64Index: 89976 entries, 0 to 89975\n",
      "Data columns (total 42 columns):\n",
      " #   Column                               Non-Null Count  Dtype  \n",
      "---  ------                               --------------  -----  \n",
      " 0   default                              89976 non-null  float64\n",
      " 1   account_amount_added_12_24m          89976 non-null  int64  \n",
      " 2   account_days_in_dc_12_24m            79293 non-null  float64\n",
      " 3   account_days_in_rem_12_24m           79293 non-null  float64\n",
      " 4   account_days_in_term_12_24m          79293 non-null  float64\n",
      " 5   account_incoming_debt_vs_paid_0_24m  36619 non-null  float64\n",
      " 6   account_status                       41042 non-null  float64\n",
      " 7   account_worst_status_0_3m            41042 non-null  float64\n",
      " 8   account_worst_status_12_24m          29921 non-null  float64\n",
      " 9   account_worst_status_3_6m            38038 non-null  float64\n",
      " 10  account_worst_status_6_12m           35663 non-null  float64\n",
      " 11  age                                  89976 non-null  int64  \n",
      " 12  avg_payment_span_0_12m               68508 non-null  float64\n",
      " 13  avg_payment_span_0_3m                45594 non-null  float64\n",
      " 14  merchant_category                    89976 non-null  object \n",
      " 15  merchant_group                       89976 non-null  object \n",
      " 16  has_paid                             89976 non-null  bool   \n",
      " 17  max_paid_inv_0_12m                   89976 non-null  float64\n",
      " 18  max_paid_inv_0_24m                   89976 non-null  float64\n",
      " 19  name_in_email                        89976 non-null  object \n",
      " 20  num_active_div_by_paid_inv_0_12m     69318 non-null  float64\n",
      " 21  num_active_inv                       89976 non-null  int64  \n",
      " 22  num_arch_dc_0_12m                    89976 non-null  int64  \n",
      " 23  num_arch_dc_12_24m                   89976 non-null  int64  \n",
      " 24  num_arch_ok_0_12m                    89976 non-null  int64  \n",
      " 25  num_arch_ok_12_24m                   89976 non-null  int64  \n",
      " 26  num_arch_rem_0_12m                   89976 non-null  int64  \n",
      " 27  num_arch_written_off_0_12m           73671 non-null  float64\n",
      " 28  num_arch_written_off_12_24m          73671 non-null  float64\n",
      " 29  num_unpaid_bills                     89976 non-null  int64  \n",
      " 30  status_last_archived_0_24m           89976 non-null  int64  \n",
      " 31  status_2nd_last_archived_0_24m       89976 non-null  int64  \n",
      " 32  status_3rd_last_archived_0_24m       89976 non-null  int64  \n",
      " 33  status_max_archived_0_6_months       89976 non-null  int64  \n",
      " 34  status_max_archived_0_12_months      89976 non-null  int64  \n",
      " 35  status_max_archived_0_24_months      89976 non-null  int64  \n",
      " 36  recovery_debt                        89976 non-null  int64  \n",
      " 37  sum_capital_paid_account_0_12m       89976 non-null  int64  \n",
      " 38  sum_capital_paid_account_12_24m      89976 non-null  int64  \n",
      " 39  sum_paid_inv_0_12m                   89976 non-null  int64  \n",
      " 40  time_hours                           89976 non-null  float64\n",
      " 41  worst_status_active_inv              27436 non-null  float64\n",
      "dtypes: bool(1), float64(19), int64(19), object(3)\n",
      "memory usage: 28.9+ MB\n"
     ]
    }
   ],
   "source": [
    "data.info()"
   ]
  },
  {
   "cell_type": "markdown",
   "id": "9f46d04a",
   "metadata": {},
   "source": [
    "## feature scaling and encoding"
   ]
  },
  {
   "cell_type": "code",
   "execution_count": 10,
   "id": "7bb7e17d",
   "metadata": {},
   "outputs": [],
   "source": [
    "# null values\n",
    "# drop columns (null values > 50%)\n",
    "data.drop(columns = ['worst_status_active_inv','account_worst_status_12_24m',\\\n",
    "                     'account_worst_status_6_12m','account_incoming_debt_vs_paid_0_24m',\\\n",
    "                     'account_worst_status_3_6m','account_worst_status_0_3m',\\\n",
    "                     'account_status','avg_payment_span_0_3m'],inplace=True)"
   ]
  },
  {
   "cell_type": "code",
   "execution_count": 11,
   "id": "4684bfe1",
   "metadata": {},
   "outputs": [],
   "source": [
    "# null values\n",
    "# impute most frequent\n",
    "imputer = SimpleImputer(strategy = 'most_frequent')\n",
    "imputer.fit(data[['avg_payment_span_0_12m','num_active_div_by_paid_inv_0_12m',\\\n",
    "                  'num_arch_written_off_12_24m','num_arch_written_off_0_12m']])\n",
    "data[['avg_payment_span_0_12m','num_active_div_by_paid_inv_0_12m',\\\n",
    "                  'num_arch_written_off_12_24m','num_arch_written_off_0_12m']] = imputer.transform(data[['avg_payment_span_0_12m','num_active_div_by_paid_inv_0_12m',\\\n",
    "                  'num_arch_written_off_12_24m','num_arch_written_off_0_12m']])"
   ]
  },
  {
   "cell_type": "code",
   "execution_count": 12,
   "id": "b7cbd542",
   "metadata": {},
   "outputs": [],
   "source": [
    "# numerical features scaling\n",
    "num_features = data.select_dtypes(include=['float64', 'int64']).drop(columns='default').columns\n",
    "scaler = StandardScaler()\n",
    "data[num_features] = scaler.fit_transform(data[num_features])"
   ]
  },
  {
   "cell_type": "code",
   "execution_count": 13,
   "id": "aa3582c5",
   "metadata": {},
   "outputs": [],
   "source": [
    "# manual ordinal encoding\n",
    "data['has_paid'] = data['has_paid'].apply(lambda x: 1 if x == 'True' else 0)"
   ]
  },
  {
   "cell_type": "code",
   "execution_count": 14,
   "id": "e5660e4a",
   "metadata": {},
   "outputs": [],
   "source": [
    "# categorical features encoding\n",
    "data = pd.get_dummies(data)"
   ]
  },
  {
   "cell_type": "code",
   "execution_count": 15,
   "id": "1454908a",
   "metadata": {},
   "outputs": [],
   "source": [
    "data.dropna(inplace=True)"
   ]
  },
  {
   "cell_type": "code",
   "execution_count": 16,
   "id": "9036eecc",
   "metadata": {},
   "outputs": [],
   "source": [
    "# X,y\n",
    "\n",
    "X = data.drop(columns= 'default')\n",
    "y = data['default']\n"
   ]
  },
  {
   "cell_type": "code",
   "execution_count": 17,
   "id": "d648bcd6",
   "metadata": {},
   "outputs": [],
   "source": [
    "X_train,X_test,y_train,y_test = train_test_split(X,y,test_size=0.3)"
   ]
  },
  {
   "cell_type": "markdown",
   "id": "320f7cfa",
   "metadata": {},
   "source": [
    "## model training"
   ]
  },
  {
   "cell_type": "code",
   "execution_count": 18,
   "id": "bc97368f",
   "metadata": {},
   "outputs": [
    {
     "data": {
      "text/plain": [
       "0.9850463922169174"
      ]
     },
     "execution_count": 18,
     "metadata": {},
     "output_type": "execute_result"
    }
   ],
   "source": [
    "# baseline model\n",
    "\n",
    "model = LogisticRegression(solver='liblinear') # add liblinear to solve attribute error\n",
    "model.fit(X_train,y_train)\n",
    "model.score(X_train,y_train)"
   ]
  },
  {
   "cell_type": "code",
   "execution_count": 19,
   "id": "e335a443",
   "metadata": {},
   "outputs": [
    {
     "data": {
      "text/plain": [
       "array([0.98504639, 0.98432574, 0.98486623, 0.98522656, 0.98513647])"
      ]
     },
     "execution_count": 19,
     "metadata": {},
     "output_type": "execute_result"
    }
   ],
   "source": [
    "scores = cross_val_score(model, X_train, y_train, cv=5,scoring='accuracy')\n",
    "scores"
   ]
  },
  {
   "cell_type": "code",
   "execution_count": 20,
   "id": "9f4b7051",
   "metadata": {},
   "outputs": [],
   "source": [
    "feature_im = permutation_importance(model,X_train,y_train)"
   ]
  },
  {
   "cell_type": "code",
   "execution_count": 21,
   "id": "71ac1464",
   "metadata": {},
   "outputs": [
    {
     "data": {
      "text/html": [
       "<div>\n",
       "<style scoped>\n",
       "    .dataframe tbody tr th:only-of-type {\n",
       "        vertical-align: middle;\n",
       "    }\n",
       "\n",
       "    .dataframe tbody tr th {\n",
       "        vertical-align: top;\n",
       "    }\n",
       "\n",
       "    .dataframe thead th {\n",
       "        text-align: right;\n",
       "    }\n",
       "</style>\n",
       "<table border=\"1\" class=\"dataframe\">\n",
       "  <thead>\n",
       "    <tr style=\"text-align: right;\">\n",
       "      <th></th>\n",
       "      <th>features</th>\n",
       "      <th>feature_im</th>\n",
       "    </tr>\n",
       "  </thead>\n",
       "  <tbody>\n",
       "    <tr>\n",
       "      <th>10</th>\n",
       "      <td>num_active_inv</td>\n",
       "      <td>0.002551</td>\n",
       "    </tr>\n",
       "    <tr>\n",
       "      <th>23</th>\n",
       "      <td>status_max_archived_0_12_months</td>\n",
       "      <td>0.000717</td>\n",
       "    </tr>\n",
       "    <tr>\n",
       "      <th>14</th>\n",
       "      <td>num_arch_ok_12_24m</td>\n",
       "      <td>0.000202</td>\n",
       "    </tr>\n",
       "    <tr>\n",
       "      <th>18</th>\n",
       "      <td>num_unpaid_bills</td>\n",
       "      <td>0.000119</td>\n",
       "    </tr>\n",
       "    <tr>\n",
       "      <th>21</th>\n",
       "      <td>status_3rd_last_archived_0_24m</td>\n",
       "      <td>0.000086</td>\n",
       "    </tr>\n",
       "    <tr>\n",
       "      <th>...</th>\n",
       "      <td>...</td>\n",
       "      <td>...</td>\n",
       "    </tr>\n",
       "    <tr>\n",
       "      <th>91</th>\n",
       "      <td>merchant_group_Entertainment</td>\n",
       "      <td>-0.00013</td>\n",
       "    </tr>\n",
       "    <tr>\n",
       "      <th>2</th>\n",
       "      <td>account_days_in_rem_12_24m</td>\n",
       "      <td>-0.000148</td>\n",
       "    </tr>\n",
       "    <tr>\n",
       "      <th>11</th>\n",
       "      <td>num_arch_dc_0_12m</td>\n",
       "      <td>-0.000259</td>\n",
       "    </tr>\n",
       "    <tr>\n",
       "      <th>24</th>\n",
       "      <td>status_max_archived_0_24_months</td>\n",
       "      <td>-0.000288</td>\n",
       "    </tr>\n",
       "    <tr>\n",
       "      <th>5</th>\n",
       "      <td>avg_payment_span_0_12m</td>\n",
       "      <td>-0.000288</td>\n",
       "    </tr>\n",
       "  </tbody>\n",
       "</table>\n",
       "<p>107 rows × 2 columns</p>\n",
       "</div>"
      ],
      "text/plain": [
       "                           features feature_im\n",
       "10                   num_active_inv   0.002551\n",
       "23  status_max_archived_0_12_months   0.000717\n",
       "14               num_arch_ok_12_24m   0.000202\n",
       "18                 num_unpaid_bills   0.000119\n",
       "21   status_3rd_last_archived_0_24m   0.000086\n",
       "..                              ...        ...\n",
       "91     merchant_group_Entertainment   -0.00013\n",
       "2        account_days_in_rem_12_24m  -0.000148\n",
       "11                num_arch_dc_0_12m  -0.000259\n",
       "24  status_max_archived_0_24_months  -0.000288\n",
       "5            avg_payment_span_0_12m  -0.000288\n",
       "\n",
       "[107 rows x 2 columns]"
      ]
     },
     "execution_count": 21,
     "metadata": {},
     "output_type": "execute_result"
    }
   ],
   "source": [
    "df_im = pd.DataFrame(np.vstack((X_train.columns,feature_im.importances_mean)).T)\n",
    "df_im.rename(columns = {0:'features',1:'feature_im'},inplace=True)\n",
    "df_im.sort_values(by='feature_im',ascending=False)"
   ]
  },
  {
   "cell_type": "code",
   "execution_count": 22,
   "id": "2a99e45d",
   "metadata": {},
   "outputs": [],
   "source": [
    "# model training"
   ]
  },
  {
   "cell_type": "code",
   "execution_count": 23,
   "id": "53f573cd",
   "metadata": {},
   "outputs": [],
   "source": [
    "# model scoring"
   ]
  },
  {
   "cell_type": "markdown",
   "id": "834bbaa2",
   "metadata": {},
   "source": [
    "## model prediction"
   ]
  },
  {
   "cell_type": "code",
   "execution_count": 24,
   "id": "cc272701",
   "metadata": {},
   "outputs": [],
   "source": [
    "# predict results"
   ]
  }
 ],
 "metadata": {
  "kernelspec": {
   "display_name": "Python 3 (ipykernel)",
   "language": "python",
   "name": "python3"
  },
  "language_info": {
   "codemirror_mode": {
    "name": "ipython",
    "version": 3
   },
   "file_extension": ".py",
   "mimetype": "text/x-python",
   "name": "python",
   "nbconvert_exporter": "python",
   "pygments_lexer": "ipython3",
   "version": "3.8.12"
  },
  "toc": {
   "base_numbering": 1,
   "nav_menu": {},
   "number_sections": true,
   "sideBar": true,
   "skip_h1_title": false,
   "title_cell": "Table of Contents",
   "title_sidebar": "Contents",
   "toc_cell": false,
   "toc_position": {},
   "toc_section_display": true,
   "toc_window_display": false
  }
 },
 "nbformat": 4,
 "nbformat_minor": 5
}
